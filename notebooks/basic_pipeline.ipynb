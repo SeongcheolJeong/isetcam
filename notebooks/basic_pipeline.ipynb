{
 "cells": [
  {
   "cell_type": "markdown",
   "metadata": {},
   "source": "# Basic pipeline\nThis demo creates a scene, computes an optical image, simulates a sensor and renders the result."
  },
  {
   "cell_type": "code",
   "metadata": {},
   "execution_count": null,
   "outputs": [],
   "source": [
    "import matplotlib.pyplot as plt\n",
    "from isetcam.scene import scene_create\n",
    "from isetcam.optics import optics_create\n",
    "from isetcam.opticalimage import oi_compute\n",
    "from isetcam.sensor import sensor_create, sensor_compute\n",
    "from isetcam.display import display_create\n",
    "from isetcam.ip import ip_compute, ip_plot\n",
    "\n",
    "scene = scene_create('macbeth d65', patch_size=16)\n",
    "optics = optics_create()\n",
    "oi = oi_compute(scene, optics)\n",
    "sensor = sensor_create()\n",
    "sensor = sensor_compute(sensor, oi)\n",
    "display = display_create()\n",
    "ip = ip_compute(sensor, display)\n"
   ]
  },
  {
   "cell_type": "code",
   "metadata": {},
   "execution_count": null,
   "outputs": [],
   "source": [
    "ax = ip_plot(ip, 'image')\n",
    "plt.show()\n"
   ]
  }
 ],
 "metadata": {
  "kernelspec": {
   "display_name": "Python 3",
   "language": "python",
   "name": "python3"
  },
  "language_info": {
   "name": "python",
   "pygments_lexer": "ipython3"
  }
 },
 "nbformat": 4,
 "nbformat_minor": 5
}
